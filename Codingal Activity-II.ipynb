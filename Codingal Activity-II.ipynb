{
 "cells": [
  {
   "cell_type": "code",
   "execution_count": 5,
   "id": "b722753d",
   "metadata": {},
   "outputs": [],
   "source": [
    "#Import the libraries\n",
    "\n",
    "import matplotlib.pyplot as plt\n",
    "import cv2\n",
    "from PIL import Image\n",
    "import numpy as np"
   ]
  },
  {
   "cell_type": "code",
   "execution_count": 6,
   "id": "0648147a",
   "metadata": {},
   "outputs": [],
   "source": [
    "#Import the Image for preprocessing\n",
    "\n",
    "Image1 = cv2.imread(\"file_location\")"
   ]
  },
  {
   "cell_type": "code",
   "execution_count": 8,
   "id": "e76f60b0",
   "metadata": {},
   "outputs": [],
   "source": [
    "#Plotting the Image for preprocessing\n",
    "\n",
    "#plt.imshow(Image1)"
   ]
  },
  {
   "cell_type": "code",
   "execution_count": 11,
   "id": "8a5a1f61",
   "metadata": {},
   "outputs": [],
   "source": [
    "#Cropping the Image\n",
    "\n",
    "#Image1 = CroppingImage1[y1:y2, x1:x2]"
   ]
  },
  {
   "cell_type": "code",
   "execution_count": 12,
   "id": "df726f6e",
   "metadata": {},
   "outputs": [],
   "source": [
    "#Saving the Cropped Image\n",
    "\n",
    "#cv2.imshow('output', Image1)\n",
    "#cv2.imwrite(\"Saving _File_Location\", Image1)"
   ]
  },
  {
   "cell_type": "code",
   "execution_count": 13,
   "id": "3e7de3d6",
   "metadata": {},
   "outputs": [],
   "source": [
    "#Rotating Image\n",
    "\n",
    "#Image1 = Image1.rotate(angle = 45, expand = True, fillcolor = \"white\")"
   ]
  },
  {
   "cell_type": "code",
   "execution_count": null,
   "id": "6cba36c7",
   "metadata": {},
   "outputs": [],
   "source": []
  }
 ],
 "metadata": {
  "kernelspec": {
   "display_name": "Python 3",
   "language": "python",
   "name": "python3"
  },
  "language_info": {
   "codemirror_mode": {
    "name": "ipython",
    "version": 3
   },
   "file_extension": ".py",
   "mimetype": "text/x-python",
   "name": "python",
   "nbconvert_exporter": "python",
   "pygments_lexer": "ipython3",
   "version": "3.8.10"
  }
 },
 "nbformat": 4,
 "nbformat_minor": 5
}
